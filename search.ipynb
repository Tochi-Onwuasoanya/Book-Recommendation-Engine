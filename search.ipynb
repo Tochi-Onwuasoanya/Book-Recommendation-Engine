#Where search engine is made
#Exploring the data
#!wc-l is a command line utility that will count the number of lines in this goodread books file
#Result should show metadata for about 7.5 million books

!wc -l goodreads_books.json.gz
