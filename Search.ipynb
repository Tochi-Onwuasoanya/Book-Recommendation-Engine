{
 "cells": [
  {
   "cell_type": "code",
   "execution_count": 7,
   "id": "97c100b1-40ef-41db-9aa5-05784239863b",
   "metadata": {
    "tags": []
   },
   "outputs": [
    {
     "name": "stdout",
     "output_type": "stream",
     "text": [
      "7588375 goodreads_books.json.gz\n"
     ]
    }
   ],
   "source": [
    "#Where search engine is made\n",
    "#Exploring the data\n",
    "#!wc-l is a command line utility that will count the number of lines in this goodread books file\n",
    "#Result should show metadata for about 7.5 million books\n",
    "!wc -l goodreads_books.json.gz"
   ]
  },
  {
   "cell_type": "code",
   "execution_count": 8,
   "id": "43ad9b97-2aef-47e1-881a-10f473a7228d",
   "metadata": {},
   "outputs": [
    {
     "name": "stdout",
     "output_type": "stream",
     "text": [
      "-rw-r--r-- 1 tochi tochi 2.0G Sep 25 04:26 goodreads_books.json.gz\n"
     ]
    }
   ],
   "source": [
    "#This command shows the size of the file (About 1.9 GB) and it shows what file type it is\n",
    "!ls -lh | grep goodreads_books.json.gz"
   ]
  },
  {
   "cell_type": "code",
   "execution_count": 9,
   "id": "1838403a-9c91-4a08-825c-5971b9a267e9",
   "metadata": {},
   "outputs": [],
   "source": [
    "#Used streaming-fashion technique here--> Instead of reading whole file into memory at once, file will be read line by line (only enough memory to store a single line at a time therefore less memory used)\n",
    "\n",
    "import gzip\n",
    "# Stream the file without unzipping\n",
    "with gzip.open(\"goodreads_books.json.gz\") as f:\n",
    "    line = f.readline()  #Read single line from file"
   ]
  },
  {
   "cell_type": "code",
   "execution_count": 10,
   "id": "b0334712-25c5-48fa-ac85-7e307b1c2efd",
   "metadata": {},
   "outputs": [
    {
     "data": {
      "text/plain": [
       "b'{\"isbn\": \"0312853122\", \"text_reviews_count\": \"1\", \"series\": [], \"country_code\": \"US\", \"language_code\": \"\", \"popular_shelves\": [{\"count\": \"3\", \"name\": \"to-read\"}, {\"count\": \"1\", \"name\": \"p\"}, {\"count\": \"1\", \"name\": \"collection\"}, {\"count\": \"1\", \"name\": \"w-c-fields\"}, {\"count\": \"1\", \"name\": \"biography\"}], \"asin\": \"\", \"is_ebook\": \"false\", \"average_rating\": \"4.00\", \"kindle_asin\": \"\", \"similar_books\": [], \"description\": \"\", \"format\": \"Paperback\", \"link\": \"https://www.goodreads.com/book/show/5333265-w-c-fields\", \"authors\": [{\"author_id\": \"604031\", \"role\": \"\"}], \"publisher\": \"St. Martin\\'s Press\", \"num_pages\": \"256\", \"publication_day\": \"1\", \"isbn13\": \"9780312853129\", \"publication_month\": \"9\", \"edition_information\": \"\", \"publication_year\": \"1984\", \"url\": \"https://www.goodreads.com/book/show/5333265-w-c-fields\", \"image_url\": \"https://images.gr-assets.com/books/1310220028m/5333265.jpg\", \"book_id\": \"5333265\", \"ratings_count\": \"3\", \"work_id\": \"5400751\", \"title\": \"W.C. Fields: A Life on Film\", \"title_without_series\": \"W.C. Fields: A Life on Film\"}\\n'"
      ]
     },
     "execution_count": 10,
     "metadata": {},
     "output_type": "execute_result"
    }
   ],
   "source": [
    "line #single line"
   ]
  },
  {
   "cell_type": "code",
   "execution_count": 11,
   "id": "e33d5f94-d195-4bc2-9dc1-55c405d55b92",
   "metadata": {},
   "outputs": [
    {
     "data": {
      "text/plain": [
       "{'isbn': '0312853122',\n",
       " 'text_reviews_count': '1',\n",
       " 'series': [],\n",
       " 'country_code': 'US',\n",
       " 'language_code': '',\n",
       " 'popular_shelves': [{'count': '3', 'name': 'to-read'},\n",
       "  {'count': '1', 'name': 'p'},\n",
       "  {'count': '1', 'name': 'collection'},\n",
       "  {'count': '1', 'name': 'w-c-fields'},\n",
       "  {'count': '1', 'name': 'biography'}],\n",
       " 'asin': '',\n",
       " 'is_ebook': 'false',\n",
       " 'average_rating': '4.00',\n",
       " 'kindle_asin': '',\n",
       " 'similar_books': [],\n",
       " 'description': '',\n",
       " 'format': 'Paperback',\n",
       " 'link': 'https://www.goodreads.com/book/show/5333265-w-c-fields',\n",
       " 'authors': [{'author_id': '604031', 'role': ''}],\n",
       " 'publisher': \"St. Martin's Press\",\n",
       " 'num_pages': '256',\n",
       " 'publication_day': '1',\n",
       " 'isbn13': '9780312853129',\n",
       " 'publication_month': '9',\n",
       " 'edition_information': '',\n",
       " 'publication_year': '1984',\n",
       " 'url': 'https://www.goodreads.com/book/show/5333265-w-c-fields',\n",
       " 'image_url': 'https://images.gr-assets.com/books/1310220028m/5333265.jpg',\n",
       " 'book_id': '5333265',\n",
       " 'ratings_count': '3',\n",
       " 'work_id': '5400751',\n",
       " 'title': 'W.C. Fields: A Life on Film',\n",
       " 'title_without_series': 'W.C. Fields: A Life on Film'}"
      ]
     },
     "execution_count": 11,
     "metadata": {},
     "output_type": "execute_result"
    }
   ],
   "source": [
    "#Use json module to load the single line\n",
    "import json\n",
    "\n",
    "data = json.loads(line) #loading as json object. Will turn result into a python dictionary where each of the individual properties can be accessed\n",
    "data"
   ]
  },
  {
   "cell_type": "code",
   "execution_count": 12,
   "id": "eac4a68c-630e-4d48-9359-d5a383afcd8f",
   "metadata": {},
   "outputs": [],
   "source": [
    "def parse_fields(line): #Takes a single line and only returns the fields below (book id, title, ratings etc)\n",
    "    data = json.loads(line)\n",
    "    return {\n",
    "        \"book_id\": data[\"book_id\"],\n",
    "        \"title\": data[\"title_without_series\"],\n",
    "        \"ratings\": data[\"ratings_count\"],\n",
    "        \"url\": data[\"url\"],\n",
    "        \"cover_image\": data[\"image_url\"] #helps see the book and click the link for it\n",
    "    }"
   ]
  },
  {
   "cell_type": "code",
   "execution_count": 29,
   "id": "380db53a-db2a-4e96-bed2-b5c2de9cebca",
   "metadata": {},
   "outputs": [],
   "source": [
    "books_titles = [] #Read every single line in the file by using a loop\n",
    "with gzip.open(\"goodreads_books.json.gz\") as f:\n",
    "    while True:\n",
    "        line = f.readline()\n",
    "        if not line:  #When it reaches the end of the file it will break\n",
    "            break\n",
    "        fields = parse_fields(line) #runs parsefields function to parse line and return dictionary\n",
    "        try:\n",
    "            ratings = int(fields[\"ratings\"]) #only want to take books that have a certain #of ratings. When they don't have a lot of ratings, it's very unlikely that users have read them\n",
    "        except ValueError:\n",
    "            continue\n",
    "        if ratings > 5: #Will only take books that have more than 5 ratings\n",
    "            books_titles.append(fields)"
   ]
  },
  {
   "cell_type": "code",
   "execution_count": 30,
   "id": "20164bfa-0494-4539-8c6e-0b277f8ca9f2",
   "metadata": {},
   "outputs": [],
   "source": [
    "#Making dataframe\n",
    "#Book titles will be a list of dictionaries that will be turned into a row in the dataframe\n",
    "import pandas as pd\n",
    "titles = pd.DataFrame.from_dict(books_titles)"
   ]
  },
  {
   "cell_type": "code",
   "execution_count": 31,
   "id": "0615fa9b-64db-4137-a9c6-8f1794775ab5",
   "metadata": {},
   "outputs": [],
   "source": [
    "titles[\"ratings\"] = pd.to_numeric(titles[\"ratings\"]) #Turns ratings into a numerical column. Will let us do ratings on the comparisons column"
   ]
  },
  {
   "cell_type": "code",
   "execution_count": 16,
   "id": "bb65a88f-e34a-4cb2-889d-01e1ad5b00e7",
   "metadata": {},
   "outputs": [],
   "source": [
    "#mod title minimizes search space and #of potential characters in each title--> For efficiency\n",
    "#1st thing to do is replace each character that doesn't fall within a certain set\n",
    "#A regular expression that basically says anything that doesn't fall within a set of characters should be replaced with \"nothing\" (get rid of it)\n",
    "titles[\"mod_title\"] = titles[\"title\"].str.replace(\"[^a-zA-Z0-9 ]\", \"\", regex=True)"
   ]
  },
  {
   "cell_type": "code",
   "execution_count": 17,
   "id": "b9487957-3c93-4746-a339-d6803c457dc9",
   "metadata": {},
   "outputs": [],
   "source": [
    "# makes all titles lowercase\n",
    "titles[\"mod_title\"] = titles[\"mod_title\"].str.lower()"
   ]
  },
  {
   "cell_type": "code",
   "execution_count": 18,
   "id": "17672ee5-9f70-47b3-843b-239eca93385e",
   "metadata": {},
   "outputs": [],
   "source": [
    "#Remove any sequential spaces and replace with a single space\n",
    "titles[\"mod_title\"] = titles[\"mod_title\"].str.replace(\"\\s+\", \" \", regex=True)"
   ]
  },
  {
   "cell_type": "code",
   "execution_count": 19,
   "id": "766895be-9240-41ac-836f-8d0706257105",
   "metadata": {},
   "outputs": [],
   "source": [
    "#Remove any title that has less than 0 characters\n",
    "titles = titles[titles[\"mod_title\"].str.len() > 0]"
   ]
  },
  {
   "cell_type": "code",
   "execution_count": 20,
   "id": "80e7e356-9e3a-48ac-98c2-a6827366a8b6",
   "metadata": {},
   "outputs": [],
   "source": [
    "#\n",
    "titles.to_json(\"books_titles.json\")"
   ]
  },
  {
   "cell_type": "code",
   "execution_count": 21,
   "id": "ccc6c13a-c4d4-452c-951c-b78f05565f6e",
   "metadata": {},
   "outputs": [
    {
     "data": {
      "text/html": [
       "<div>\n",
       "<style scoped>\n",
       "    .dataframe tbody tr th:only-of-type {\n",
       "        vertical-align: middle;\n",
       "    }\n",
       "\n",
       "    .dataframe tbody tr th {\n",
       "        vertical-align: top;\n",
       "    }\n",
       "\n",
       "    .dataframe thead th {\n",
       "        text-align: right;\n",
       "    }\n",
       "</style>\n",
       "<table border=\"1\" class=\"dataframe\">\n",
       "  <thead>\n",
       "    <tr style=\"text-align: right;\">\n",
       "      <th></th>\n",
       "      <th>book_id</th>\n",
       "      <th>title</th>\n",
       "      <th>ratings</th>\n",
       "      <th>url</th>\n",
       "      <th>cover_image</th>\n",
       "      <th>mod_title</th>\n",
       "    </tr>\n",
       "  </thead>\n",
       "  <tbody>\n",
       "    <tr>\n",
       "      <th>0</th>\n",
       "      <td>1333909</td>\n",
       "      <td>Good Harbor</td>\n",
       "      <td>10</td>\n",
       "      <td>https://www.goodreads.com/book/show/1333909.Go...</td>\n",
       "      <td>https://s.gr-assets.com/assets/nophoto/book/11...</td>\n",
       "      <td>good harbor</td>\n",
       "    </tr>\n",
       "    <tr>\n",
       "      <th>1</th>\n",
       "      <td>7327624</td>\n",
       "      <td>The Unschooled Wizard (Sun Wolf and Starhawk, ...</td>\n",
       "      <td>140</td>\n",
       "      <td>https://www.goodreads.com/book/show/7327624-th...</td>\n",
       "      <td>https://images.gr-assets.com/books/1304100136m...</td>\n",
       "      <td>the unschooled wizard sun wolf and starhawk 12</td>\n",
       "    </tr>\n",
       "    <tr>\n",
       "      <th>2</th>\n",
       "      <td>6066819</td>\n",
       "      <td>Best Friends Forever</td>\n",
       "      <td>51184</td>\n",
       "      <td>https://www.goodreads.com/book/show/6066819-be...</td>\n",
       "      <td>https://s.gr-assets.com/assets/nophoto/book/11...</td>\n",
       "      <td>best friends forever</td>\n",
       "    </tr>\n",
       "    <tr>\n",
       "      <th>3</th>\n",
       "      <td>287140</td>\n",
       "      <td>Runic Astrology: Starcraft and Timekeeping in ...</td>\n",
       "      <td>15</td>\n",
       "      <td>https://www.goodreads.com/book/show/287140.Run...</td>\n",
       "      <td>https://images.gr-assets.com/books/1413219371m...</td>\n",
       "      <td>runic astrology starcraft and timekeeping in t...</td>\n",
       "    </tr>\n",
       "    <tr>\n",
       "      <th>4</th>\n",
       "      <td>287141</td>\n",
       "      <td>The Aeneid for Boys and Girls</td>\n",
       "      <td>46</td>\n",
       "      <td>https://www.goodreads.com/book/show/287141.The...</td>\n",
       "      <td>https://s.gr-assets.com/assets/nophoto/book/11...</td>\n",
       "      <td>the aeneid for boys and girls</td>\n",
       "    </tr>\n",
       "    <tr>\n",
       "      <th>...</th>\n",
       "      <td>...</td>\n",
       "      <td>...</td>\n",
       "      <td>...</td>\n",
       "      <td>...</td>\n",
       "      <td>...</td>\n",
       "      <td>...</td>\n",
       "    </tr>\n",
       "    <tr>\n",
       "      <th>1782574</th>\n",
       "      <td>3084038</td>\n",
       "      <td>This Sceptred Isle, Vol. 10: The Age of Victor...</td>\n",
       "      <td>12</td>\n",
       "      <td>https://www.goodreads.com/book/show/3084038-th...</td>\n",
       "      <td>https://images.gr-assets.com/books/1494763458m...</td>\n",
       "      <td>this sceptred isle vol 10 the age of victoria ...</td>\n",
       "    </tr>\n",
       "    <tr>\n",
       "      <th>1782575</th>\n",
       "      <td>26168430</td>\n",
       "      <td>Sherlock Holmes and the July Crisis</td>\n",
       "      <td>6</td>\n",
       "      <td>https://www.goodreads.com/book/show/26168430-s...</td>\n",
       "      <td>https://images.gr-assets.com/books/1440592011m...</td>\n",
       "      <td>sherlock holmes and the july crisis</td>\n",
       "    </tr>\n",
       "    <tr>\n",
       "      <th>1782576</th>\n",
       "      <td>2342551</td>\n",
       "      <td>The Children's Classic Poetry Collection</td>\n",
       "      <td>36</td>\n",
       "      <td>https://www.goodreads.com/book/show/2342551.Th...</td>\n",
       "      <td>https://s.gr-assets.com/assets/nophoto/book/11...</td>\n",
       "      <td>the childrens classic poetry collection</td>\n",
       "    </tr>\n",
       "    <tr>\n",
       "      <th>1782577</th>\n",
       "      <td>22017381</td>\n",
       "      <td>101 Nights: Volume One (101 Nights, #1-3)</td>\n",
       "      <td>70</td>\n",
       "      <td>https://www.goodreads.com/book/show/22017381-1...</td>\n",
       "      <td>https://images.gr-assets.com/books/1398621236m...</td>\n",
       "      <td>101 nights volume one 101 nights 13</td>\n",
       "    </tr>\n",
       "    <tr>\n",
       "      <th>1782578</th>\n",
       "      <td>11419866</td>\n",
       "      <td>The Spanish Duke's Virgin Bride (Innocent Mist...</td>\n",
       "      <td>7</td>\n",
       "      <td>https://www.goodreads.com/book/show/11419866-t...</td>\n",
       "      <td>https://s.gr-assets.com/assets/nophoto/book/11...</td>\n",
       "      <td>the spanish dukes virgin bride innocent mistre...</td>\n",
       "    </tr>\n",
       "  </tbody>\n",
       "</table>\n",
       "<p>1773389 rows × 6 columns</p>\n",
       "</div>"
      ],
      "text/plain": [
       "          book_id                                              title  ratings  \\\n",
       "0         1333909                                        Good Harbor       10   \n",
       "1         7327624  The Unschooled Wizard (Sun Wolf and Starhawk, ...      140   \n",
       "2         6066819                               Best Friends Forever    51184   \n",
       "3          287140  Runic Astrology: Starcraft and Timekeeping in ...       15   \n",
       "4          287141                      The Aeneid for Boys and Girls       46   \n",
       "...           ...                                                ...      ...   \n",
       "1782574   3084038  This Sceptred Isle, Vol. 10: The Age of Victor...       12   \n",
       "1782575  26168430                Sherlock Holmes and the July Crisis        6   \n",
       "1782576   2342551           The Children's Classic Poetry Collection       36   \n",
       "1782577  22017381          101 Nights: Volume One (101 Nights, #1-3)       70   \n",
       "1782578  11419866  The Spanish Duke's Virgin Bride (Innocent Mist...        7   \n",
       "\n",
       "                                                       url  \\\n",
       "0        https://www.goodreads.com/book/show/1333909.Go...   \n",
       "1        https://www.goodreads.com/book/show/7327624-th...   \n",
       "2        https://www.goodreads.com/book/show/6066819-be...   \n",
       "3        https://www.goodreads.com/book/show/287140.Run...   \n",
       "4        https://www.goodreads.com/book/show/287141.The...   \n",
       "...                                                    ...   \n",
       "1782574  https://www.goodreads.com/book/show/3084038-th...   \n",
       "1782575  https://www.goodreads.com/book/show/26168430-s...   \n",
       "1782576  https://www.goodreads.com/book/show/2342551.Th...   \n",
       "1782577  https://www.goodreads.com/book/show/22017381-1...   \n",
       "1782578  https://www.goodreads.com/book/show/11419866-t...   \n",
       "\n",
       "                                               cover_image  \\\n",
       "0        https://s.gr-assets.com/assets/nophoto/book/11...   \n",
       "1        https://images.gr-assets.com/books/1304100136m...   \n",
       "2        https://s.gr-assets.com/assets/nophoto/book/11...   \n",
       "3        https://images.gr-assets.com/books/1413219371m...   \n",
       "4        https://s.gr-assets.com/assets/nophoto/book/11...   \n",
       "...                                                    ...   \n",
       "1782574  https://images.gr-assets.com/books/1494763458m...   \n",
       "1782575  https://images.gr-assets.com/books/1440592011m...   \n",
       "1782576  https://s.gr-assets.com/assets/nophoto/book/11...   \n",
       "1782577  https://images.gr-assets.com/books/1398621236m...   \n",
       "1782578  https://s.gr-assets.com/assets/nophoto/book/11...   \n",
       "\n",
       "                                                 mod_title  \n",
       "0                                              good harbor  \n",
       "1           the unschooled wizard sun wolf and starhawk 12  \n",
       "2                                     best friends forever  \n",
       "3        runic astrology starcraft and timekeeping in t...  \n",
       "4                            the aeneid for boys and girls  \n",
       "...                                                    ...  \n",
       "1782574  this sceptred isle vol 10 the age of victoria ...  \n",
       "1782575                sherlock holmes and the july crisis  \n",
       "1782576            the childrens classic poetry collection  \n",
       "1782577                101 nights volume one 101 nights 13  \n",
       "1782578  the spanish dukes virgin bride innocent mistre...  \n",
       "\n",
       "[1773389 rows x 6 columns]"
      ]
     },
     "execution_count": 21,
     "metadata": {},
     "output_type": "execute_result"
    }
   ],
   "source": [
    "# Returns titles\n",
    "titles"
   ]
  },
  {
   "cell_type": "code",
   "execution_count": 22,
   "id": "282c0ba5-8c77-4e56-b914-53de2284af66",
   "metadata": {},
   "outputs": [],
   "source": [
    "#Using scikit learn to build TF*IDF matrix\n",
    "#Vectorizer takes a list of strings and turns it into tf*idf matrix\n",
    "\n",
    "from sklearn.feature_extraction.text import TfidfVectorizer\n",
    "vectorizer = TfidfVectorizer()\n",
    "\n",
    "#run it on mod titles\n",
    "tfidf = vectorizer.fit_transform(titles[\"mod_title\"])"
   ]
  },
  {
   "cell_type": "code",
   "execution_count": 26,
   "id": "724038a0-f529-4119-a894-eac3aa285f26",
   "metadata": {},
   "outputs": [],
   "source": [
    "#Turn a search query into a vector, and then match it up against the matrix and compare them\n",
    "#To do our comparison of the vectors we'll use a metric called cosine-similarity\n",
    "\n",
    "from sklearn.metrics.pairwise import cosine_similarity\n",
    "import numpy as np\n",
    "import re #Python regular expression library\n",
    "\n",
    "def make_clickable(val): #Pandas method to style columns with html\n",
    "    return '<a target=\"_blank\" href=\"{}\">Goodreads</a>'.format(val, val) #Building html element for each column entry\n",
    "\n",
    "def show_image(val): #Returns image of book using pandas\n",
    "    return '<a href=\"{}\"><img src=\"{}\" width=50></img></a>'.format(val, val)\n",
    "\n",
    "def search(query,vectorizer):\n",
    "    processed = re.sub(\"[^a-zA-Z0-9 ]\", \"\", query.lower())  #Same procesing as mod title but with search query\n",
    "    query_vec = vectorizer.transform([query]) #turn query into vector using vectorizer\n",
    "    similarity = cosine_similarity(query_vec, tfidf).flatten() #Find similarities using cosine similarity function, and search tf*idf matrix for your search query\n",
    "    indices = np.argpartition(similarity, -10)[-10:] #Use numpy partition function to find the 10 most similar results. Want to find indices as well in order to index titles\n",
    "    results = titles.iloc[indices] #Gives us book title rows with most similar results to query\n",
    "    results = results.sort_values(\"ratings\", ascending=False) #Sort the values on the number of ratings using pandas sort value method. Will help limit duplicate results by taking the row with the highest number of ratings\n",
    "\n",
    "    return results.head(5).style.format({'url': make_clickable, 'cover_image': show_image}) #Returns top 5 results and styles them using html. Allows users to click on url of results, and to view the cover image."
   ]
  },
  {
   "cell_type": "code",
   "execution_count": 27,
   "id": "f43ee4bc-579d-4eda-8571-75f1562f1ea1",
   "metadata": {},
   "outputs": [
    {
     "data": {
      "text/html": [
       "<style type=\"text/css\">\n",
       "</style>\n",
       "<table id=\"T_06ec9\">\n",
       "  <thead>\n",
       "    <tr>\n",
       "      <th class=\"blank level0\" >&nbsp;</th>\n",
       "      <th id=\"T_06ec9_level0_col0\" class=\"col_heading level0 col0\" >book_id</th>\n",
       "      <th id=\"T_06ec9_level0_col1\" class=\"col_heading level0 col1\" >title</th>\n",
       "      <th id=\"T_06ec9_level0_col2\" class=\"col_heading level0 col2\" >ratings</th>\n",
       "      <th id=\"T_06ec9_level0_col3\" class=\"col_heading level0 col3\" >url</th>\n",
       "      <th id=\"T_06ec9_level0_col4\" class=\"col_heading level0 col4\" >cover_image</th>\n",
       "      <th id=\"T_06ec9_level0_col5\" class=\"col_heading level0 col5\" >mod_title</th>\n",
       "    </tr>\n",
       "  </thead>\n",
       "  <tbody>\n",
       "    <tr>\n",
       "      <th id=\"T_06ec9_level0_row0\" class=\"row_heading level0 row0\" >421390</th>\n",
       "      <td id=\"T_06ec9_row0_col0\" class=\"data row0 col0\" >28754622</td>\n",
       "      <td id=\"T_06ec9_row0_col1\" class=\"data row0 col1\" >Harry Potter and the Goblet of Fire</td>\n",
       "      <td id=\"T_06ec9_row0_col2\" class=\"data row0 col2\" >3314</td>\n",
       "      <td id=\"T_06ec9_row0_col3\" class=\"data row0 col3\" ><a target=\"_blank\" href=\"https://www.goodreads.com/book/show/28754622-harry-potter-and-the-goblet-of-fire\">Goodreads</a></td>\n",
       "      <td id=\"T_06ec9_row0_col4\" class=\"data row0 col4\" ><a href=\"https://s.gr-assets.com/assets/nophoto/book/111x148-bcc042a9c91a29c1d680899eff700a03.png\"><img src=\"https://s.gr-assets.com/assets/nophoto/book/111x148-bcc042a9c91a29c1d680899eff700a03.png\" width=50></img></a></td>\n",
       "      <td id=\"T_06ec9_row0_col5\" class=\"data row0 col5\" >harry potter and the goblet of fire</td>\n",
       "    </tr>\n",
       "    <tr>\n",
       "      <th id=\"T_06ec9_level0_row1\" class=\"row_heading level0 row1\" >1367402</th>\n",
       "      <td id=\"T_06ec9_row1_col0\" class=\"data row1 col0\" >7292005</td>\n",
       "      <td id=\"T_06ec9_row1_col1\" class=\"data row1 col1\" >Harry Potter and the Goblet of Fire</td>\n",
       "      <td id=\"T_06ec9_row1_col2\" class=\"data row1 col2\" >202</td>\n",
       "      <td id=\"T_06ec9_row1_col3\" class=\"data row1 col3\" ><a target=\"_blank\" href=\"https://www.goodreads.com/book/show/7292005-harry-potter-and-the-goblet-of-fire\">Goodreads</a></td>\n",
       "      <td id=\"T_06ec9_row1_col4\" class=\"data row1 col4\" ><a href=\"https://s.gr-assets.com/assets/nophoto/book/111x148-bcc042a9c91a29c1d680899eff700a03.png\"><img src=\"https://s.gr-assets.com/assets/nophoto/book/111x148-bcc042a9c91a29c1d680899eff700a03.png\" width=50></img></a></td>\n",
       "      <td id=\"T_06ec9_row1_col5\" class=\"data row1 col5\" >harry potter and the goblet of fire</td>\n",
       "    </tr>\n",
       "    <tr>\n",
       "      <th id=\"T_06ec9_level0_row2\" class=\"row_heading level0 row2\" >1345131</th>\n",
       "      <td id=\"T_06ec9_row2_col0\" class=\"data row2 col0\" >17861465</td>\n",
       "      <td id=\"T_06ec9_row2_col1\" class=\"data row2 col1\" >Harry Potter and the Goblet of Fire</td>\n",
       "      <td id=\"T_06ec9_row2_col2\" class=\"data row2 col2\" >174</td>\n",
       "      <td id=\"T_06ec9_row2_col3\" class=\"data row2 col3\" ><a target=\"_blank\" href=\"https://www.goodreads.com/book/show/17861465-harry-potter-and-the-goblet-of-fire\">Goodreads</a></td>\n",
       "      <td id=\"T_06ec9_row2_col4\" class=\"data row2 col4\" ><a href=\"https://images.gr-assets.com/books/1379716227m/17861465.jpg\"><img src=\"https://images.gr-assets.com/books/1379716227m/17861465.jpg\" width=50></img></a></td>\n",
       "      <td id=\"T_06ec9_row2_col5\" class=\"data row2 col5\" >harry potter and the goblet of fire</td>\n",
       "    </tr>\n",
       "    <tr>\n",
       "      <th id=\"T_06ec9_level0_row3\" class=\"row_heading level0 row3\" >1139381</th>\n",
       "      <td id=\"T_06ec9_row3_col0\" class=\"data row3 col0\" >1071182</td>\n",
       "      <td id=\"T_06ec9_row3_col1\" class=\"data row3 col1\" >Harry Potter and the Goblet of Fire</td>\n",
       "      <td id=\"T_06ec9_row3_col2\" class=\"data row3 col2\" >168</td>\n",
       "      <td id=\"T_06ec9_row3_col3\" class=\"data row3 col3\" ><a target=\"_blank\" href=\"https://www.goodreads.com/book/show/1071182.Harry_Potter_and_the_Goblet_of_Fire\">Goodreads</a></td>\n",
       "      <td id=\"T_06ec9_row3_col4\" class=\"data row3 col4\" ><a href=\"https://images.gr-assets.com/books/1361378666m/1071182.jpg\"><img src=\"https://images.gr-assets.com/books/1361378666m/1071182.jpg\" width=50></img></a></td>\n",
       "      <td id=\"T_06ec9_row3_col5\" class=\"data row3 col5\" >harry potter and the goblet of fire</td>\n",
       "    </tr>\n",
       "    <tr>\n",
       "      <th id=\"T_06ec9_level0_row4\" class=\"row_heading level0 row4\" >1176439</th>\n",
       "      <td id=\"T_06ec9_row4_col0\" class=\"data row4 col0\" >23784313</td>\n",
       "      <td id=\"T_06ec9_row4_col1\" class=\"data row4 col1\" >Harry Potter and the Goblet of Fire</td>\n",
       "      <td id=\"T_06ec9_row4_col2\" class=\"data row4 col2\" >46</td>\n",
       "      <td id=\"T_06ec9_row4_col3\" class=\"data row4 col3\" ><a target=\"_blank\" href=\"https://www.goodreads.com/book/show/23784313-harry-potter-and-the-goblet-of-fire\">Goodreads</a></td>\n",
       "      <td id=\"T_06ec9_row4_col4\" class=\"data row4 col4\" ><a href=\"https://images.gr-assets.com/books/1442436672m/23784313.jpg\"><img src=\"https://images.gr-assets.com/books/1442436672m/23784313.jpg\" width=50></img></a></td>\n",
       "      <td id=\"T_06ec9_row4_col5\" class=\"data row4 col5\" >harry potter and the goblet of fire</td>\n",
       "    </tr>\n",
       "  </tbody>\n",
       "</table>\n"
      ],
      "text/plain": [
       "<pandas.io.formats.style.Styler at 0x169e11845e0>"
      ]
     },
     "execution_count": 27,
     "metadata": {},
     "output_type": "execute_result"
    }
   ],
   "source": [
    "search(\"harry potter and the goblet of fire\", vectorizer) #Return search"
   ]
  },
  {
   "cell_type": "code",
   "execution_count": 32,
   "id": "2976a399-2157-4744-bf1f-7530fe976877",
   "metadata": {},
   "outputs": [],
   "source": [
    "#Take query results and use book id's to create liked books list.\n",
    "#Store as strings\n",
    "liked_books=[\"3314\", \"31147619\", \"29983711\", \"9401317\",\"9317691\", \"8153988\", \"20494944\"]\n",
    "#I'd generally recommend to make your liked books list list less than 10 but more than 3 books just for efficiencie's sake."
   ]
  },
  {
   "cell_type": "code",
   "execution_count": null,
   "id": "9c40f971-d573-46ec-a117-c7532a1798ae",
   "metadata": {},
   "outputs": [],
   "source": []
  },
  {
   "cell_type": "code",
   "execution_count": null,
   "id": "9d73c3fa-dbde-4754-b6b2-9ae360d7b898",
   "metadata": {},
   "outputs": [],
   "source": []
  }
 ],
 "metadata": {
  "kernelspec": {
   "display_name": "Python 3 (ipykernel)",
   "language": "python",
   "name": "python3"
  },
  "language_info": {
   "codemirror_mode": {
    "name": "ipython",
    "version": 3
   },
   "file_extension": ".py",
   "mimetype": "text/x-python",
   "name": "python",
   "nbconvert_exporter": "python",
   "pygments_lexer": "ipython3",
   "version": "3.9.12"
  }
 },
 "nbformat": 4,
 "nbformat_minor": 5
}
