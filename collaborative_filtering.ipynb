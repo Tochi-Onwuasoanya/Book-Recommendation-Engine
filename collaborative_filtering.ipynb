{
 
   "source": [
    "# Download these files\n",
    "\n",
    "# books_titles.json\n",
    "# https://drive.google.com/file/d/1Iqv9TROqNgYbUDijSaDegv4EPpxO97t3/view?usp=sharing\n",
    "\n",
    "# goodreads_interactions.csv\n",
    "# https://drive.google.com/open?id=1zmylV7XW2dfQVCLeg1LbllfQtHD2KUon\n",
    "\n",
    "# book_id_map.csv\n",
    "# https://drive.google.com/uc?id=1CHTAaNwyzvbi1TR08MJrJ03BxA266Yxr\n",
    "\n",
    "# liked_books.csv\n",
    "# https://drive.google.com/file/d/1dhPhfD5hAOJjrdf8JhvbOPxDpF4qWYnb/view?usp=sharing\n",
    "\n",
    "\n",
    "import pandas as pd\n",
    "# read liked books csv in\n",
    "my_books = pd.read_csv(\"liked_books.csv\", index_col=0) #The row index\n",
    "my_books[\"book_id\"] = my_books[\"book_id\"].astype(str) #ensure it's a string"
   ]
  },
  {
   "cell_type": "code",
   "execution_count": null,
   "metadata": {},
   "outputs": [],
   "source": [
    "my_books #return my books"
   ]
  },
  {
   "cell_type": "code",
   "execution_count": null,
   "metadata": {},
   "outputs": [],
   "source": [
    "# load in book id mapping file\n",
    "# Loop will read the file line by line until there are no more lines\n",
    "csv_book_mapping = {}\n",
    "\n",
    "with open(\"book_id_map.csv\", \"r\") as f:\n",
    "    while True:\n",
    "        line = f.readline()\n",
    "        if not line:\n",
    "            break\n",
    "        csv_id, book_id = line.strip().split(\",\")\n",
    "        csv_book_mapping[csv_id] = book_id # Creates dictionary that helps map between the ids in different files"
   ]
  },
  {
   "cell_type": "code",
   "execution_count": null,
   "metadata": {},
   "outputs": [],
   "source": [
    "book_set = set(my_books[\"book_id\"]) #Create set that contains all the unique books we've read"
   ]
  },
  {
   "cell_type": "code",
   "execution_count": null,
   "metadata": {},
   "outputs": [],
   "source": [
    "overlap_users = {} # Store any user that's read the same books as user\n",
    "\n",
    "with open(\"goodreads_interactions.csv\", 'r') as f:\n",
    "    while True:\n",
    "        line = f.readline()\n",
    "        if not line:\n",
    "            break\n",
    "        user_id, csv_id, _, rating, _ = line.split(\",\")\n",
    "\n",
    "        book_id = csv_book_mapping.get(csv_id)\n",
    "\n",
    "        if book_id in book_set: #If this is in liked books, then add user id to overlap users dictionary. Also, keeping count a given user has books that overlap with the users liked books.\n",
    "            if user_id not in overlap_users: #This will return and give us a dictionary\n",
    "                overlap_users[user_id] = 1\n",
    "            else:\n",
    "                overlap_users[user_id] += 1"
   ]
  },
  {
   "cell_type": "code",
   "execution_count": null,
   "metadata": {},
   "outputs": [],
   "source": [
    "len(overlap_users)  #look at length of dictionary"
   ]
  },
  {
   "cell_type": "code",
   "execution_count": null,
   "metadata": {},
   "outputs": [],
   "source": [
    "#Unless a user has read a certain number of books, and they are in common with us (20% common), then take them out of overlap_user\n",
    "#Only want to find users who have read some of the same books as user\n",
    "filtered_overlap_users = set([k for k in overlap_users if overlap_users[k] > my_books.shape[0]/4])\n"
   ]
  },
  {
   "cell_type": "code",
   "execution_count": null,
   "metadata": {},
   "outputs": [],
   "source": [
    "len(filtered_overlap_users)"
   ]
  },
  {
   "cell_type": "code",
   "execution_count": null,
   "metadata": {},
   "outputs": [],
   "source": [
    "#List that grabs user id, book id, and rating for all user\n",
    "# Will use to create recs with collaborative filtering\n",
    "#For every user that has read some of the same books as user, (at least 25% of them), we will create a list of all the books that they've read--> Their reading history may serve as books that we want to read\n",
    "interactions_list = []\n",
    "\n",
    "with open(\"goodreads_interactions.csv\", 'r') as f:\n",
    "    while True:\n",
    "        line = f.readline()\n",
    "        if not line:\n",
    "            break\n",
    "        user_id, csv_id, _, rating, _ = line.split(\",\")\n",
    "\n",
    "        if user_id in filtered_overlap_users: #If the user is someone in the overlap users list, then add their reading history into the interactions list\n",
    "            book_id = csv_book_mapping[csv_id]\n",
    "            interactions_list.append([user_id, book_id, rating])"
   ]
  },
  {
   "cell_type": "code",
   "execution_count": null,
   "metadata": {},
   "outputs": [],
   "source": [
    "len(interactions_list) #get length of interactions list"
   ]
  },
  {
   "cell_type": "code",
   "execution_count": null,
   "metadata": {},
   "outputs": [],
   "source": [
    "interactions_list[0] #first item in list. Should be a user id, a book id, and the rating it was given (scale 1-5)"
   ]
  },
  {
   "cell_type": "code",
   "execution_count": null,
   "metadata": {},
   "outputs": [],
   "source": [
    "interactions = pd.DataFrame(interactions_list, columns=[\"user_id\", \"book_id\", \"rating\"]) #Turn into a dataframe."
   ]
  },
  {
   "cell_type": "code",
   "execution_count": null,
   "metadata": {},
   "outputs": [],
   "source": [
    "interactions = pd.concat([my_books[[\"user_id\", \"book_id\", \"rating\"]], interactions]) #Add our own ratings into the matrix using concat function"
   ]
  },
  {
   "cell_type": "code",
   "execution_count": null,
   "metadata": {},
   "outputs": [],
   "source": [
    "interactions"
   ]
  },
  {
   "cell_type": "code",
   "execution_count": null,
   "metadata": {},
   "outputs": [],
   "source": [
    "#Make sure everything is the right datatype\n",
    "interactions[\"book_id\"] = interactions[\"book_id\"].astype(str) #strings\n",
    "interactions[\"user_id\"] = interactions[\"user_id\"].astype(str) #strings\n",
    "interactions[\"rating\"] = pd.to_numeric(interactions[\"rating\"]) #numbers"
   ]
  },
  {
   "cell_type": "code",
   "execution_count": null,
   "metadata": {},
   "outputs": [],
   "source": [
    "interactions[\"user_index\"] = interactions[\"user_id\"].astype(\"category\").cat.codes #user ids\n",
    "#Split each unique user id, and then assign a number to each row"
   ]
  },
  {
   "cell_type": "code",
   "execution_count": null,
   "metadata": {},
   "outputs": [],
   "source": [
    "interactions[\"book_index\"] = interactions[\"book_id\"].astype(\"category\").cat.codes  #Split each unique book id, and then assign a number to each row"
   ]
  },
  {
   "cell_type": "code",
   "execution_count": null,
   "metadata": {},
   "outputs": [],
   "source": [
    "#Using scipy to import a coo matrix ( a type of sparse matrix)\n",
    "# In order to create matrix:\n",
    "# pass in an array or list of data u want in cells, then row positions (user indices), then column positions(book indices)\n",
    "#created in coo format because they are initially easier to create, will transform to csr format\n",
    "from scipy.sparse import coo_matrix\n",
    "\n",
    "ratings_mat_coo = coo_matrix((interactions[\"rating\"], (interactions[\"user_index\"], interactions[\"book_index\"])))"
   ]
  },
  {
   "cell_type": "code",
   "execution_count": null,
   "metadata": {},
   "outputs": [],
   "source": [
    "ratings_mat_coo.shape #"
   ]
  },
  {
   "cell_type": "code",
   "execution_count": null,
   "metadata": {},
   "outputs": [],
   "source": [
    "ratings_mat = ratings_mat_coo.tocsr() #convert coo matrix to csr matrix"
   ]
  },
  {
   "cell_type": "code",
   "execution_count": null,
   "metadata": {},
   "outputs": [],
   "source": [
    "interactions[interactions[\"user_id\"] == \"-1\"] #Find row positions of our specific user.\n"
   ]
  },
  {
   "cell_type": "code",
   "execution_count": null,
   "metadata": {},
   "outputs": [],
   "source": [
    "my_index = 0 #row zero in matrix"
   ]
  },
  {
   "cell_type": "code",
   "execution_count": null,
   "metadata": {},
   "outputs": [],
   "source": [
    "#Cosign similarity will find the similarity between two rows in the matrix\n",
    "#It could find how similar each user is to us in terms of books they liked, and how they rated them\n",
    "from sklearn.metrics.pairwise import cosine_similarity\n",
    "\n",
    "similarity = cosine_similarity(ratings_mat[my_index,:], ratings_mat).flatten() #Turn into numpy array"
   ]
  },
  {
   "cell_type": "code",
   "execution_count": null,
   "metadata": {},
   "outputs": [],
   "source": [
    "similarity[0] #return a float that tells us how similar they are. Similarity of 1 means you have the exact same tastes and preferences. The lower the similarity metric, the less similar your tates and books are"
   ]
  },
  {
   "cell_type": "code",
   "execution_count": null,
   "metadata": {},
   "outputs": [],
   "source": [
    "# Find indicis of users that are most similar to us\n",
    "import numpy as np\n",
    "\n",
    "indices = np.argpartition(similarity, -15)[-15:] #Find the 15 users that are the most similar to us"
   ]
  },
  {
   "cell_type": "code",
   "execution_count": null,
   "metadata": {},
   "outputs": [],
   "source": [
    "indices #Return the 15 users most similar to us in terms of book taste and ratings"
   ]
  },
  {
   "cell_type": "code",
   "execution_count": null,
   "metadata": {},
   "outputs": [],
   "source": [
    "similar_users = interactions[interactions[\"user_index\"].isin(indices)].copy() #Find the user indices of the 15 most similar users"
   ]
  },
  {
   "cell_type": "code",
   "execution_count": null,
   "metadata": {},
   "outputs": [],
   "source": [
    "similar_users = similar_users[similar_users[\"user_id\"]!=\"-1\"] #Remember that our user id is -1\n"
   ]
  },
  {
   "cell_type": "code",
   "execution_count": null,
   "metadata": {},
   "outputs": [],
   "source": [
    "similar_users #Will return abt 38,000 rows of potential books that we may want to read, based on the users who are most similar"
   ]
  },
  {
   "cell_type": "code",
   "execution_count": null,
   "metadata": {},
   "outputs": [],
   "source": [
    "# Group similar users by book id and then taking rating column and aggregate it\n",
    "#Count up how many times each book appeared, and find the average rating\n",
    "book_recs = similar_users.groupby(\"book_id\").rating.agg(['count', 'mean'])"
   ]
  },
  {
   "cell_type": "code",
   "execution_count": null,
   "metadata": {},
   "outputs": [],
   "source": [
    "book_recs# Lets us know many times a book was recommended to use, and what the avg rating was"
   ]
  },
  {
   "cell_type": "code",
   "execution_count": null,
   "metadata": {},
   "outputs": [],
   "source": [
    "#Read in book titles\n",
    "#Ensure that book id is a string\n",
    "books_titles = pd.read_json(\"books_titles.json\")\n",
    "books_titles[\"book_id\"] = books_titles[\"book_id\"].astype(str)"
   ]
  },
  {
   "cell_type": "code",
   "execution_count": null,
   "metadata": {},
   "outputs": [],
   "source": [
    "book_recs = book_recs.merge(books_titles, how=\"inner\", on=\"book_id\") #merge the two datasets in order to get the book titles into the dataset"
   ]
  },
  {
   "cell_type": "code",
   "execution_count": null,
   "metadata": {},
   "outputs": [],
   "source": [
    "book_recs"
   ]
  },
  {
   "cell_type": "code",
   "execution_count": null,
   "metadata": {},
   "outputs": [],
   "source": [
    "#Create an adjusted count--> a count but normalized for how many times the book appeared amongst ppl like us, relative to other ppl\n",
    "#Ratings is  number of times book was rated across all of goodreads\n",
    "#This method gets books that were popular amongst users like us, but weren't as popular amongst users not like us\n",
    "book_recs[\"adjusted_count\"] = book_recs[\"count\"] * (book_recs[\"count\"] / book_recs[\"ratings\"])"
   ]
  },
  {
   "cell_type": "code",
   "execution_count": null,
   "metadata": {},
   "outputs": [],
   "source": [
    "# How much we might like each book based off average rating * adjusted count\n",
    "book_recs[\"score\"] = book_recs[\"mean\"] * book_recs[\"adjusted_count\"]"
   ]
  },
  {
   "cell_type": "code",
   "execution_count": null,
   "metadata": {},
   "outputs": [],
   "source": [
    "#Take out any book where a book id matches an id of a book we've already read\n",
    "book_recs = book_recs[~book_recs[\"book_id\"].isin(my_books[\"book_id\"])]"
   ]
  },
  {
   "cell_type": "code",
   "execution_count": null,
   "metadata": {},
   "outputs": [],
   "source": [
    "#Take title of books we've liked, and replace any character that doesn't fall within this set of characters\n",
    "my_books[\"mod_title\"] = my_books[\"title\"].str.replace(\"[^a-zA-Z0-9 ]\", \"\", regex=True).str.lower()"
   ]
  },
  {
   "cell_type": "code",
   "execution_count": null,
   "metadata": {},
   "outputs": [],
   "source": [
    "# Replace any sequences of spaces\n",
    "my_books[\"mod_title\"] = my_books[\"mod_title\"].str.replace(\"\\s+\", \" \", regex=True) #regular expression"
   ]
  },
  {
   "cell_type": "code",
   "execution_count": null,
   "metadata": {},
   "outputs": [],
   "source": [
    "#Take out the books in our recommendations where the mod title fits into the books we've already read/liked\n",
    "book_recs = book_recs[~book_recs[\"mod_title\"].isin(my_books[\"mod_title\"])]"
   ]
  },
  {
   "cell_type": "code",
   "execution_count": null,
   "metadata": {},
   "outputs": [],
   "source": [
    "#Remove any recommendation that had 3 or less users read the book and like it\n",
    "book_recs = book_recs[book_recs[\"mean\"] >=4]"
   ]
  },
  {
   "cell_type": "code",
   "execution_count": null,
   "metadata": {},
   "outputs": [],
   "source": [
    "#Only find books where the book rating is greater than 2\n",
    "book_recs = book_recs[book_recs[\"count\"]>2]"
   ]
  },
  {
   "cell_type": "code",
   "execution_count": null,
   "metadata": {},
   "outputs": [],
   "source": [
    "#Sorts recs based on score (Highest to lowest)\n",
    "top_recs = book_recs.sort_values(\"mean\", ascending=False)"
   ]
  },
  {
   "cell_type": "code",
   "execution_count": 1,
   "metadata": {},
   "outputs": [
    {
     "ename": "NameError",
     "evalue": "name 'top_recs' is not defined",
     "output_type": "error",
     "traceback": [
      "\u001B[1;31m---------------------------------------------------------------------------\u001B[0m",
      "\u001B[1;31mNameError\u001B[0m                                 Traceback (most recent call last)",
      "Cell \u001B[1;32mIn [1], line 8\u001B[0m\n\u001B[0;32m      5\u001B[0m \u001B[38;5;28;01mdef\u001B[39;00m \u001B[38;5;21mshow_image\u001B[39m(val):\n\u001B[0;32m      6\u001B[0m     \u001B[38;5;28;01mreturn\u001B[39;00m \u001B[38;5;124m'\u001B[39m\u001B[38;5;124m<a href=\u001B[39m\u001B[38;5;124m\"\u001B[39m\u001B[38;5;132;01m{}\u001B[39;00m\u001B[38;5;124m\"\u001B[39m\u001B[38;5;124m><img src=\u001B[39m\u001B[38;5;124m\"\u001B[39m\u001B[38;5;132;01m{}\u001B[39;00m\u001B[38;5;124m\"\u001B[39m\u001B[38;5;124m width=50></img></a>\u001B[39m\u001B[38;5;124m'\u001B[39m\u001B[38;5;241m.\u001B[39mformat(val, val)\n\u001B[1;32m----> 8\u001B[0m \u001B[43mtop_recs\u001B[49m\u001B[38;5;241m.\u001B[39mstyle\u001B[38;5;241m.\u001B[39mformat({\u001B[38;5;124m'\u001B[39m\u001B[38;5;124murl\u001B[39m\u001B[38;5;124m'\u001B[39m: make_clickable, \u001B[38;5;124m'\u001B[39m\u001B[38;5;124mcover_image\u001B[39m\u001B[38;5;124m'\u001B[39m: show_image})\n",
      "\u001B[1;31mNameError\u001B[0m: name 'top_recs' is not defined"
     ]
    }
   ],
   "source": [
    "#Improves display of the pandas dataframe\n",
    "def make_clickable(val):\n",
    "    return '<a target=\"_blank\" href=\"{}\">Goodreads</a>'.format(val, val)\n",
    "\n",
    "def show_image(val):\n",
    "    return '<a href=\"{}\"><img src=\"{}\" width=50></img></a>'.format(val, val)\n",
    "\n",
    "top_recs.style.format({'url': make_clickable, 'cover_image': show_image})"
   ]
  },
  {
   "cell_type": "code",
   "execution_count": null,
   "metadata": {},
   "outputs": [],
   "source": []
  },
  {
   "cell_type": "code",
   "execution_count": null,
   "metadata": {},
   "outputs": [],
   "source": []
  },
  {
   "cell_type": "code",
   "execution_count": null,
   "metadata": {},
   "outputs": [],
   "source": []
  }
 ],
 "metadata": {
  "kernelspec": {
   "display_name": "Python 3 (ipykernel)",
   "language": "python",
   "name": "python3"
  },
  "language_info": {
   "codemirror_mode": {
    "name": "ipython",
    "version": 3
   },
   "file_extension": ".py",
   "mimetype": "text/x-python",
   "name": "python",
   "nbconvert_exporter": "python",
   "pygments_lexer": "ipython3",
   "version": "3.10.7"
  }
 },
 "nbformat": 4,
 "nbformat_minor": 1
}
