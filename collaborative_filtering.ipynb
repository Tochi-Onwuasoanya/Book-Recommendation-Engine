{
 "cells": [
  {
   "cell_type": "code",
   "execution_count": null,
   "id": "ee0c40ed-a594-4621-be49-23c39364358c",
   "metadata": {},
   "outputs": [],
   "source": [
    "# Download these files\n",
    "\n",
    "# books_titles.json\n",
    "# https://drive.google.com/file/d/1Iqv9TROqNgYbUDijSaDegv4EPpxO97t3/view?usp=sharing\n",
    "\n",
    "# goodreads_interactions.csv\n",
    "# https://drive.google.com/open?id=1zmylV7XW2dfQVCLeg1LbllfQtHD2KUon\n",
    "\n",
    "# book_id_map.csv\n",
    "# https://drive.google.com/uc?id=1CHTAaNwyzvbi1TR08MJrJ03BxA266Yxr\n",
    "\n",
    "# liked_books.csv\n",
    "# https://drive.google.com/file/d/1dhPhfD5hAOJjrdf8JhvbOPxDpF4qWYnb/view?usp=sharing\n",
    "\n",
    "\n",
    "import pandas as pd\n",
    "# read liked books csv in\n",
    "my_books = pd.read_csv(\"liked_books.csv\", index_col=0) #The row index\n",
    "my_books[\"book_id\"] = my_books[\"book_id\"].astype(str) #ensure it's a string"
   ]
  },
  {
   "cell_type": "code",
   "execution_count": null,
   "id": "08cd0743-f6f1-4610-864b-2bdbb789986c",
   "metadata": {},
   "outputs": [],
   "source": [
    "my_books #return my books"
   ]
  },
  {
   "cell_type": "code",
   "execution_count": null,
   "id": "a7dd0d48-b57a-4f1a-a0c2-174704330210",
   "metadata": {},
   "outputs": [],
   "source": [
    "# load in book id mapping file\n",
    "# Loop will read the file line by line until there are no more lines\n",
    "csv_book_mapping = {}\n",
    "\n",
    "with open(\"book_id_map.csv\", \"r\") as f:\n",
    "    while True:\n",
    "        line = f.readline()\n",
    "        if not line:\n",
    "            break\n",
    "        csv_id, book_id = line.strip().split(\",\")\n",
    "        csv_book_mapping[csv_id] = book_id # Creates dictionary that helps map between the ids in different files"
   ]
  },
  {
   "cell_type": "code",
   "execution_count": null,
   "id": "5fb37d03-e4b4-4829-91e2-5ccffeaba979",
   "metadata": {},
   "outputs": [],
   "source": [
    "book_set = set(my_books[\"book_id\"]) #Create set that contains all the unique books we've read"
   ]
  },
  {
   "cell_type": "code",
   "execution_count": null,
   "id": "da9ecb67-a94a-4d51-b61e-d6c881721e6c",
   "metadata": {},
   "outputs": [],
   "source": [
    "overlap_users = {} # Store any user that's read the same books as user\n",
    "\n",
    "with open(\"goodreads_interactions.csv\", 'r') as f:\n",
    "    while True:\n",
    "        line = f.readline()\n",
    "        if not line:\n",
    "            break\n",
    "        user_id, csv_id, _, rating, _ = line.split(\",\")\n",
    "\n",
    "        book_id = csv_book_mapping.get(csv_id)\n",
    "\n",
    "        if book_id in book_set: #If this is in liked books, then add user id to overlap users dictionary. Also, keeping count a given user has books that overlap with the users liked books.\n",
    "            if user_id not in overlap_users: #This will return and give us a dictionary\n",
    "                overlap_users[user_id] = 1\n",
    "            else:\n",
    "                overlap_users[user_id] += 1"
   ]
  },
  {
   "cell_type": "code",
   "execution_count": null,
   "id": "4b4e4ace-3025-4bdc-b57e-086bd613c47c",
   "metadata": {},
   "outputs": [],
   "source": [
    "len(overlap_users)  #look at length of dictionary"
   ]
  },
  {
   "cell_type": "code",
   "execution_count": null,
   "id": "86385afc-9920-4589-b1c5-b3198eb1885a",
   "metadata": {},
   "outputs": [],
   "source": [
    "#Unless a user has read a certain number of books, and they are in common with us (20% common), then take them out of overlap_user\n",
    "#Only want to find users who have read some of the same books as user\n",
    "filtered_overlap_users = set([k for k in overlap_users if overlap_users[k] > my_books.shape[0]/4])\n"
   ]
  },
  {
   "cell_type": "code",
   "execution_count": null,
   "id": "4b7b409d-9d14-4e14-9fde-73416ee700d1",
   "metadata": {},
   "outputs": [],
   "source": [
    "len(filtered_overlap_users)"
   ]
  },
  {
   "cell_type": "code",
   "execution_count": null,
   "id": "ecfd8715-108a-406f-b389-d43099812d85",
   "metadata": {},
   "outputs": [],
   "source": [
    "#List that grabs user id, book id, and rating for all user\n",
    "# Will use to create recs with collaborative filtering\n",
    "#For every user that has read some of the same books as user, (at least 25% of them), we will create a list of all the books that they've read--> Their reading history may serve as books that we want to read\n",
    "interactions_list = []\n",
    "\n",
    "with open(\"goodreads_interactions.csv\", 'r') as f:\n",
    "    while True:\n",
    "        line = f.readline()\n",
    "        if not line:\n",
    "            break\n",
    "        user_id, csv_id, _, rating, _ = line.split(\",\")\n",
    "\n",
    "        if user_id in filtered_overlap_users: #If the user is someone in the overlap users list, then add their reading history into the interactions list\n",
    "            book_id = csv_book_mapping[csv_id]\n",
    "            interactions_list.append([user_id, book_id, rating])"
   ]
  },
  {
   "cell_type": "code",
   "execution_count": null,
   "id": "a9e7486c-4a87-4095-8bbe-b1a107134214",
   "metadata": {},
   "outputs": [],
   "source": [
    "len(interactions_list) #get length of interactions list"
   ]
  },
  {
   "cell_type": "code",
   "execution_count": null,
   "id": "c812bc46-4215-4e0e-a350-41a4d13892d7",
   "metadata": {},
   "outputs": [],
   "source": [
    "interactions_list[0] #first item in list. Should be a user id, a book id, and the rating it was given (scale 1-5)"
   ]
  },
  {
   "cell_type": "code",
   "execution_count": null,
   "id": "06be64b2-de05-448f-bdcb-1d5d12392935",
   "metadata": {},
   "outputs": [],
   "source": [
    "interactions = pd.DataFrame(interactions_list, columns=[\"user_id\", \"book_id\", \"rating\"]) #Turn into a dataframe."
   ]
  },
  {
   "cell_type": "code",
   "execution_count": null,
   "id": "cbe4205f-e811-4aca-a9af-88d086bdaf67",
   "metadata": {},
   "outputs": [],
   "source": [
    "interactions = pd.concat([my_books[[\"user_id\", \"book_id\", \"rating\"]], interactions]) #Add our own ratings into the matrix using concat function"
   ]
  },
  {
   "cell_type": "code",
   "execution_count": null,
   "id": "4644fea3-355a-4698-808b-1afae10b937d",
   "metadata": {},
   "outputs": [],
   "source": [
    "interactions"
   ]
  },
  {
   "cell_type": "code",
   "execution_count": null,
   "id": "9b2f07b5-e48a-47c1-a48f-e008cdb9cc5e",
   "metadata": {},
   "outputs": [],
   "source": [
    "#Make sure everything is the right datatype\n",
    "interactions[\"book_id\"] = interactions[\"book_id\"].astype(str) #strings\n",
    "interactions[\"user_id\"] = interactions[\"user_id\"].astype(str) #strings\n",
    "interactions[\"rating\"] = pd.to_numeric(interactions[\"rating\"]) #numbers"
   ]
  },
  {
   "cell_type": "code",
   "execution_count": null,
   "id": "ee12ebf5-cd6a-40c9-9e13-69ac73c0f3f2",
   "metadata": {},
   "outputs": [],
   "source": [
    "interactions[\"user_index\"] = interactions[\"user_id\"].astype(\"category\").cat.codes #user ids\n",
    "#Split each unique user id, and then assign a number to each row"
   ]
  },
  {
   "cell_type": "code",
   "execution_count": null,
   "id": "ba0753fc-cebe-44cc-99bc-67960d480c25",
   "metadata": {},
   "outputs": [],
   "source": [
    "interactions[\"book_index\"] = interactions[\"book_id\"].astype(\"category\").cat.codes  #Split each unique book id, and then assign a number to each row"
   ]
  },
  {
   "cell_type": "code",
   "execution_count": null,
   "id": "fb7255d3-95d4-4b4d-91b3-830900a1e19f",
   "metadata": {},
   "outputs": [],
   "source": [
    "#Using scipy to import a coo matrix ( a type of sparse matrix)\n",
    "# In order to create matrix:\n",
    "# pass in an array or list of data u want in cells, then row positions (user indices), then column positions(book indices)\n",
    "#created in coo format because they are initially easier to create, will transform to csr format\n",
    "from scipy.sparse import coo_matrix\n",
    "\n",
    "ratings_mat_coo = coo_matrix((interactions[\"rating\"], (interactions[\"user_index\"], interactions[\"book_index\"])))"
   ]
  },
  {
   "cell_type": "code",
   "execution_count": null,
   "id": "7be2741d-7fb0-4c24-9642-327673de9f15",
   "metadata": {},
   "outputs": [],
   "source": [
    "ratings_mat_coo.shape #"
   ]
  },
  {
   "cell_type": "code",
   "execution_count": null,
   "id": "3539c415-9f26-4258-9ef2-87ad34e411b7",
   "metadata": {},
   "outputs": [],
   "source": [
    "ratings_mat = ratings_mat_coo.tocsr() #convert coo matrix to csr matrix"
   ]
  },
  {
   "cell_type": "code",
   "execution_count": null,
   "id": "b2204414-f343-459d-aa55-926af5728144",
   "metadata": {},
   "outputs": [],
   "source": [
    "interactions[interactions[\"user_id\"] == \"-1\"] #Find row positions of our specific user."
   ]
  },
  {
   "cell_type": "code",
   "execution_count": null,
   "id": "37bda407-9a7c-48e6-904f-a2c22cc4998e",
   "metadata": {},
   "outputs": [],
   "source": [
    "my_index = 0 #row zero in matrix"
   ]
  },
  {
   "cell_type": "code",
   "execution_count": null,
   "id": "46f4f848-e57e-4bbe-aad7-7061bb755297",
   "metadata": {},
   "outputs": [],
   "source": [
    "#Cosign similarity will find the similarity between two rows in the matrix\n",
    "#It could find how similar each user is to us in terms of books they liked, and how they rated them\n",
    "from sklearn.metrics.pairwise import cosine_similarity\n",
    "\n",
    "similarity = cosine_similarity(ratings_mat[my_index,:], ratings_mat).flatten() #Turn into numpy array"
   ]
  },
  {
   "cell_type": "code",
   "execution_count": null,
   "id": "5fb6aaf4-f50d-46f1-aa3c-c6a697bfa006",
   "metadata": {},
   "outputs": [],
   "source": [
    "similarity[0] #return a float that tells us how similar they are. Similarity of 1 means you have the exact same tastes and preferences. The lower the similarity metric, the less similar your tates and books are"
   ]
  },
  {
   "cell_type": "code",
   "execution_count": null,
   "id": "5a296827-d64e-45e6-9eaa-edaeab3449af",
   "metadata": {},
   "outputs": [],
   "source": [
    "# Find indicis of users that are most similar to us\n",
    "import numpy as np\n",
    "\n",
    "indices = np.argpartition(similarity, -15)[-15:] #Find the 15 users that are the most similar to us"
   ]
  },
  {
   "cell_type": "code",
   "execution_count": null,
   "id": "b557f6a2-32e2-447a-8938-2a4ea36c7fa5",
   "metadata": {},
   "outputs": [],
   "source": [
    "indices #Return the 15 users most similar to us in terms of book taste and ratings"
   ]
  },
  {
   "cell_type": "code",
   "execution_count": null,
   "id": "3bf9de8b-c7e4-456e-bdca-47ffa6624e77",
   "metadata": {},
   "outputs": [],
   "source": [
    "similar_users = interactions[interactions[\"user_index\"].isin(indices)].copy() #Find the user indices of the 15 most similar users"
   ]
  },
  {
   "cell_type": "code",
   "execution_count": null,
   "id": "3f846719-7875-466d-9f7f-cdfb50f20a8a",
   "metadata": {},
   "outputs": [],
   "source": [
    "similar_users = similar_users[similar_users[\"user_id\"]!=\"-1\"] #Remember that our user id is -1"
   ]
  },
  {
   "cell_type": "code",
   "execution_count": null,
   "id": "e3ff39de-8e7b-4e06-ab5e-874f27c1b410",
   "metadata": {},
   "outputs": [],
   "source": [
    "similar_users #Will return abt 38,000 rows of potential books that we may want to read, based on the users who are most similar"
   ]
  },
  {
   "cell_type": "code",
   "execution_count": null,
   "id": "cc246b2a-2458-4d0e-921f-c97e81ea9339",
   "metadata": {},
   "outputs": [],
   "source": [
    "# Group similar users by book id and then taking rating column and aggregate it\n",
    "#Count up how many times each book appeared, and find the average rating\n",
    "book_recs = similar_users.groupby(\"book_id\").rating.agg(['count', 'mean'])"
   ]
  },
  {
   "cell_type": "code",
   "execution_count": null,
   "id": "13df9020-14aa-4d43-b09e-c1d24f842bc0",
   "metadata": {},
   "outputs": [],
   "source": [
    "book_recs# Lets us know many times a book was recommended to use, and what the avg rating was"
   ]
  },
  {
   "cell_type": "code",
   "execution_count": null,
   "id": "049689b8-977c-41a0-a5e4-6b1ecb6b13c5",
   "metadata": {},
   "outputs": [],
   "source": [
    "#Read in book titles\n",
    "#Ensure that book id is a string\n",
    "books_titles = pd.read_json(\"books_titles.json\")\n",
    "books_titles[\"book_id\"] = books_titles[\"book_id\"].astype(str)"
   ]
  },
  {
   "cell_type": "code",
   "execution_count": null,
   "id": "5de3d644-b4c8-43aa-a3c9-678cd032f1cc",
   "metadata": {},
   "outputs": [],
   "source": [
    "book_recs = book_recs.merge(books_titles, how=\"inner\", on=\"book_id\") #merge the two datasets in order to get the book titles into the dataset"
   ]
  },
  {
   "cell_type": "code",
   "execution_count": null,
   "id": "7516ea85-f3b5-47cd-970e-e31f78e923ab",
   "metadata": {},
   "outputs": [],
   "source": [
    "book_recs"
   ]
  },
  {
   "cell_type": "code",
   "execution_count": null,
   "id": "c26d6939-3fc9-4345-8950-18bb77780355",
   "metadata": {},
   "outputs": [],
   "source": [
    "#Create an adjusted count--> a count but normalized for how many times the book appeared amongst ppl like us, relative to other ppl\n",
    "#Ratings is  number of times book was rated across all of goodreads\n",
    "#This method gets books that were popular amongst users like us, but weren't as popular amongst users not like us\n",
    "book_recs[\"adjusted_count\"] = book_recs[\"count\"] * (book_recs[\"count\"] / book_recs[\"ratings\"])"
   ]
  },
  {
   "cell_type": "code",
   "execution_count": null,
   "id": "7d493a5c-fad3-44fd-b45c-f755668cdd32",
   "metadata": {},
   "outputs": [],
   "source": [
    "# How much we might like each book based off average rating * adjusted count\n",
    "book_recs[\"score\"] = book_recs[\"mean\"] * book_recs[\"adjusted_count\"]"
   ]
  },
  {
   "cell_type": "code",
   "execution_count": null,
   "id": "a7e82936-26d8-4d95-89ce-44ff234d1f71",
   "metadata": {},
   "outputs": [],
   "source": [
    "#Take out any book where a book id matches an id of a book we've already read\n",
    "book_recs = book_recs[~book_recs[\"book_id\"].isin(my_books[\"book_id\"])]"
   ]
  },
  {
   "cell_type": "code",
   "execution_count": null,
   "id": "543d2d38-4688-4447-a3d8-00625007ec6a",
   "metadata": {},
   "outputs": [],
   "source": [
    "#Take title of books we've liked, and replace any character that doesn't fall within this set of characters\n",
    "my_books[\"mod_title\"] = my_books[\"title\"].str.replace(\"[^a-zA-Z0-9 ]\", \"\", regex=True).str.lower()"
   ]
  },
  {
   "cell_type": "code",
   "execution_count": null,
   "id": "b834ac1e-03ed-43a2-92a3-5cf891f5bbbc",
   "metadata": {},
   "outputs": [],
   "source": [
    "# Replace any sequences of spaces\n",
    "my_books[\"mod_title\"] = my_books[\"mod_title\"].str.replace(\"\\s+\", \" \", regex=True) #regular expression"
   ]
  },
  {
   "cell_type": "code",
   "execution_count": null,
   "id": "165dcc50-4af5-4b84-aa77-868ef631f181",
   "metadata": {},
   "outputs": [],
   "source": [
    "#Take out the books in our recommendations where the mod title fits into the books we've already read/liked\n",
    "book_recs = book_recs[~book_recs[\"mod_title\"].isin(my_books[\"mod_title\"])]"
   ]
  },
  {
   "cell_type": "code",
   "execution_count": null,
   "id": "63c38bec-67ea-4ab4-9360-d65a57de74e5",
   "metadata": {},
   "outputs": [],
   "source": [
    "#Remove any recommendation that had 3 or less users read the book and like it\n",
    "book_recs = book_recs[book_recs[\"mean\"] >=4]"
   ]
  },
  {
   "cell_type": "code",
   "execution_count": null,
   "id": "22900804-3b4b-4e3b-b5c5-e2450f00a5af",
   "metadata": {},
   "outputs": [],
   "source": [
    "#Only find books where the book rating is greater than 2\n",
    "book_recs = book_recs[book_recs[\"count\"]>2]"
   ]
  },
  {
   "cell_type": "code",
   "execution_count": null,
   "id": "b1029ce6-5025-440e-beca-53a154bdd533",
   "metadata": {},
   "outputs": [],
   "source": [
    "#Sorts recs based on score (Highest to lowest)\n",
    "top_recs = book_recs.sort_values(\"mean\", ascending=False)"
   ]
  },
  {
   "cell_type": "code",
   "execution_count": null,
   "id": "d6e9e444-aa4e-474e-9de8-4ceaf492788d",
   "metadata": {},
   "outputs": [],
   "source": [
    "#Improves display of the pandas dataframe\n",
    "def make_clickable(val):\n",
    "    return '<a target=\"_blank\" href=\"{}\">Goodreads</a>'.format(val, val)\n",
    "\n",
    "def show_image(val):\n",
    "    return '<a href=\"{}\"><img src=\"{}\" width=50></img></a>'.format(val, val)\n",
    "\n",
    "top_recs.style.format({'url': make_clickable, 'cover_image': show_image})"
   ]
  }
 ],
 "metadata": {
  "kernelspec": {
   "display_name": "Python 3 (ipykernel)",
   "language": "python",
   "name": "python3"
  },
  "language_info": {
   "codemirror_mode": {
    "name": "ipython",
    "version": 3
   },
   "file_extension": ".py",
   "mimetype": "text/x-python",
   "name": "python",
   "nbconvert_exporter": "python",
   "pygments_lexer": "ipython3",
   "version": "3.9.12"
  }
 },
 "nbformat": 4,
 "nbformat_minor": 5
}
